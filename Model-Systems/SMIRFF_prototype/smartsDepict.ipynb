{
 "cells": [
  {
   "cell_type": "markdown",
   "metadata": {},
   "source": [
    "# SMARTS selection and depiction\n",
    "## Depict molecular components selected by a particular SMARTS\n",
    "\n",
    "This notebook focuses on selecting molecules containing fragments matching a particular SMARTS query, and then depicting the components (i.e. bonds, angles, torsions) matching that particular query. "
   ]
  },
  {
   "cell_type": "code",
   "execution_count": 1,
   "metadata": {
    "collapsed": false
   },
   "outputs": [],
   "source": [
    "import openeye.oechem as oechem\n",
    "import openeye.oedepict as oedepict\n",
    "from IPython.display import display\n",
    "import os\n",
    "from __future__ import print_function"
   ]
  },
  {
   "cell_type": "code",
   "execution_count": 2,
   "metadata": {
    "collapsed": false
   },
   "outputs": [],
   "source": [
    "def depictMatch(mol, match, width=500, height=200):\n",
    "    \"\"\"Take in an OpenEye molecule and a substructure match and display the results\n",
    "    with (optionally) specified resolution.\"\"\"\n",
    "    \n",
    "    from IPython.display import Image\n",
    "    dopt = oedepict.OEPrepareDepictionOptions()\n",
    "    dopt.SetDepictOrientation( oedepict.OEDepictOrientation_Horizontal)\n",
    "    dopt.SetSuppressHydrogens(True)\n",
    "    oedepict.OEPrepareDepiction(mol, dopt)\n",
    "    opts = oedepict.OE2DMolDisplayOptions(width, height, oedepict.OEScale_AutoScale)\n",
    "    disp = oedepict.OE2DMolDisplay(mol, opts)\n",
    "    hstyle = oedepict.OEHighlightStyle_Color\n",
    "    hcolor = oechem.OEColor(oechem.OELightBlue)\n",
    "    oedepict.OEAddHighlighting(disp, hcolor, hstyle, match)\n",
    "    ofs = oechem.oeosstream()\n",
    "    oedepict.OERenderMolecule(ofs, 'png', disp)\n",
    "    ofs.flush()\n",
    "    return Image(data = \"\".join(ofs.str()))"
   ]
  },
  {
   "cell_type": "code",
   "execution_count": 3,
   "metadata": {
    "collapsed": true
   },
   "outputs": [],
   "source": [
    "import parmed\n",
    "def createOpenMMSystem(mol):\n",
    "    \"\"\"\n",
    "    Generate OpenMM System and positions from an OEMol.\n",
    "    \n",
    "    Parameters\n",
    "    ----------\n",
    "    mol : OEMol\n",
    "        The molecule\n",
    "        \n",
    "    Returns\n",
    "    -------\n",
    "    system : simtk.openmm.System\n",
    "       The OpenMM System\n",
    "    positions : simtk.unit.Quantity wrapped \n",
    "       Positions of the molecule\n",
    "    \"\"\"\n",
    "    # write mol2 file\n",
    "    ofsmol2 = oechem.oemolostream('molecule.mol2')\n",
    "    ofsmol2.SetFlavor( oechem.OEFormat_MOL2, oechem.OEOFlavor_MOL2_Forcefield );\n",
    "    oechem.OEWriteConstMolecule(ofsmol2, mol)\n",
    "    ofsmol2.close()\n",
    "    # write tleap input file\n",
    "    leap_input = \"\"\"\n",
    "    lig = loadMol2 molecule.mol2\n",
    "    saveAmberParm lig prmtop inpcrd   \n",
    "    quit\n",
    "    \"\"\"\n",
    "    outfile = open('leap.in', 'w')\n",
    "    outfile.write(leap_input)\n",
    "    outfile.close()\n",
    "    # run tleap\n",
    "    leaprc = 'leaprc.Frosst_AlkEthOH'\n",
    "    os.system( 'tleap -f %s -f leap.in > leap.out' % leaprc )\n",
    "    # check if param file was not saved (implies parameterization problems)\n",
    "    paramsNotSaved = 'Parameter file was not saved'\n",
    "    leaplog = open( 'leap.out', 'r' ).read()\n",
    "    if paramsNotSaved in leaplog:\n",
    "        raise Exception('Parameter file was not saved.')\n",
    "    # Read prmtop and inpcrd\n",
    "    amberparm = parmed.amber.AmberParm( 'prmtop', 'inpcrd' )\n",
    "    system = amberparm.createSystem()\n",
    "    return (system, amberparm.positions)\n",
    "\n",
    "import copy\n",
    "from simtk import openmm, unit\n",
    "\n",
    "def getValenceEnergyComponent(system, positions, atoms):\n",
    "    \"\"\"\n",
    "    Get the OpenMM valence energy corresponding to a specified set of atoms (bond, angle, torsion).\n",
    "    \n",
    "    Parameters\n",
    "    ----------\n",
    "    system : simtk.openmm.System\n",
    "       The OpenMM System object for the molecule\n",
    "    positions : simtk.unit.Quantity of dimension (natoms,3) with units compatible with angstroms\n",
    "       The positions of the molecule\n",
    "    atoms : list or set of int\n",
    "       The set of atoms in the bond, angle, or torsion.\n",
    "\n",
    "    Returns\n",
    "    -------\n",
    "    potential : simtk.unit.Quantity with units compatible with kilocalories_per_mole\n",
    "       The energy of the valence component.\n",
    "    \"\"\"\n",
    "    atoms = set(atoms)\n",
    "    natoms = len(atoms) # number of atoms\n",
    "    # Create a copy of the original System object so we can manipulate it\n",
    "    system = copy.deepcopy(system)\n",
    "    # Determine Force types to keep\n",
    "    if natoms == 2:\n",
    "        forcename = 'HarmonicBondForce'\n",
    "    elif natoms == 3:\n",
    "        forcename = 'HarmonicAngleForce'\n",
    "    elif natoms == 4:\n",
    "        forcename = 'PeriodicTorsionForce'\n",
    "    else:\n",
    "        raise Exception('len(atoms) = %d, but must be in [2,3,4] for bond, angle, or torsion' % len(atoms))\n",
    "    # Discard Force objects we don't need\n",
    "    for force_index in reversed(range(system.getNumForces())):\n",
    "        if system.getForce(force_index).__class__.__name__ != forcename:\n",
    "            system.removeForce(force_index)\n",
    "\n",
    "    # Report on constraints\n",
    "    if forcename == 'HarmonicBondForce':\n",
    "        for constraint_index in range(system.getNumConstraints()):\n",
    "            [i, j, r0] = system.getConstraintParameters(constraint_index)\n",
    "            if set([i,j]) == atoms:\n",
    "                print('Bond is constrained')        \n",
    "            \n",
    "    # Zero out force components that don't involve the atoms\n",
    "    for force_index in range(system.getNumForces()):\n",
    "        force = system.getForce(force_index)\n",
    "        if forcename == 'HarmonicBondForce':\n",
    "            for param_index in range(force.getNumBonds()):\n",
    "                [i, j, r0, K] = force.getBondParameters(param_index)\n",
    "                if set([i,j]) != atoms:\n",
    "                    K *= 0\n",
    "                else:\n",
    "                    print('Match found: bond parameter %d : r0 = %s, K = %s' % (param_index, str(r0), str(K)))\n",
    "                force.setBondParameters(param_index, i, j, r0, K)\n",
    "        elif forcename == 'HarmonicAngleForce':\n",
    "            for param_index in range(force.getNumAngles()):\n",
    "                [i, j, k, theta0, K] = force.getAngleParameters(param_index)\n",
    "                if set([i,j,k]) != atoms:\n",
    "                    K *= 0\n",
    "                else:\n",
    "                    print('Match found: angle parameter %d : theta0 = %s, K = %s' % (param_index, str(theta0), str(K)))\n",
    "                force.setAngleParameters(param_index, i, j, k, theta0, K)\n",
    "        elif forcename == 'PeriodicTorsionForce':\n",
    "            for param_index in range(force.getNumTorsions()):\n",
    "                [i, j, k, l, periodicity, phase, K] = force.getTorsionParameters(param_index)\n",
    "                if set([i,j,k,l]) != atoms:\n",
    "                    K *= 0\n",
    "                else:\n",
    "                    print('Match found: torsion parameter %d : periodicity = %s, phase = %s, K = %s' % (param_index, str(periodicity), str(phase), str(K)))\n",
    "                force.setTorsionParameters(param_index, i, j, k, l, periodicity, phase, K)\n",
    "    # Compute energy\n",
    "    platform = openmm.Platform.getPlatformByName('Reference')\n",
    "    integrator = openmm.VerletIntegrator(1.0 * unit.femtoseconds)\n",
    "    context = openmm.Context(system, integrator, platform)\n",
    "    context.setPositions(positions)\n",
    "    potential = context.getState(getEnergy=True).getPotentialEnergy()\n",
    "    del context, integrator, system\n",
    "    # Return energy\n",
    "    return potential\n",
    "    "
   ]
  },
  {
   "cell_type": "code",
   "execution_count": 4,
   "metadata": {
    "collapsed": false
   },
   "outputs": [],
   "source": [
    "#SMARTS query defining your search (and potentially forcefield term of interest)\n",
    "#Note currently this must specify an angle term for the OpenMM energy to be\n",
    "Smarts = '[#6X4]-[#6X4]-[#8X2]' # angle example\n",
    "Smarts = '[a,A]-[#6X4]-[#8X2]-[#1]' # torsion example\n",
    "Smarts = '[#6X4]-[#6X4]' # bond example\n",
    "\n",
    "#Set up substructure query\n",
    "qmol = oechem.OEQMol()\n",
    "if not oechem.OEParseSmarts( qmol, Smarts ):\n",
    "    print( 'OEParseSmarts failed')\n",
    "ss = oechem.OESubSearch( qmol)"
   ]
  },
  {
   "cell_type": "code",
   "execution_count": 5,
   "metadata": {
    "collapsed": false
   },
   "outputs": [],
   "source": [
    "#File to search for this substructure\n",
    "fileprefix= 'AlkEthOH_dvrs1'\n",
    "ifs = oechem.oemolistream(fileprefix+'.oeb')"
   ]
  },
  {
   "cell_type": "code",
   "execution_count": 6,
   "metadata": {
    "collapsed": false
   },
   "outputs": [
    {
     "data": {
      "image/png": "[encoded data removed]",
      "text/plain": [
       "<IPython.core.display.Image object>"
      ]
     },
     "metadata": {},
     "output_type": "display_data"
    },
    {
     "name": "stdout",
     "output_type": "stream",
     "text": [
      "0 1 \n"
     ]
    },
    {
     "ename": "UnboundLocalError",
     "evalue": "local variable 'force' referenced before assignment",
     "output_type": "error",
     "traceback": [
      "\u001b[0;31m---------------------------------------------------------------------------\u001b[0m",
      "\u001b[0;31mUnboundLocalError\u001b[0m                         Traceback (most recent call last)",
      "\u001b[0;32m<ipython-input-6-e9aea9bf9f17>\u001b[0m in \u001b[0;36m<module>\u001b[0;34m()\u001b[0m\n\u001b[1;32m     20\u001b[0m         \u001b[0;32mprint\u001b[0m\u001b[0;34m(\u001b[0m\u001b[0;34m''\u001b[0m\u001b[0;34m)\u001b[0m\u001b[0;34m\u001b[0m\u001b[0m\n\u001b[1;32m     21\u001b[0m         \u001b[0;31m#Get OpenMM angle energy and print IF it's an angle term\u001b[0m\u001b[0;34m\u001b[0m\u001b[0;34m\u001b[0m\u001b[0m\n\u001b[0;32m---> 22\u001b[0;31m         \u001b[0mpotential\u001b[0m \u001b[0;34m=\u001b[0m \u001b[0mgetValenceEnergyComponent\u001b[0m\u001b[0;34m(\u001b[0m\u001b[0msystem\u001b[0m\u001b[0;34m,\u001b[0m \u001b[0mpositions\u001b[0m\u001b[0;34m,\u001b[0m \u001b[0matoms\u001b[0m\u001b[0;34m)\u001b[0m\u001b[0;34m\u001b[0m\u001b[0m\n\u001b[0m\u001b[1;32m     23\u001b[0m         \u001b[0;32mprint\u001b[0m\u001b[0;34m(\u001b[0m\u001b[0;34m'%16.10f kcal/mol'\u001b[0m \u001b[0;34m%\u001b[0m \u001b[0;34m(\u001b[0m\u001b[0mpotential\u001b[0m \u001b[0;34m/\u001b[0m \u001b[0munit\u001b[0m\u001b[0;34m.\u001b[0m\u001b[0mkilocalories_per_mole\u001b[0m\u001b[0;34m)\u001b[0m\u001b[0;34m)\u001b[0m\u001b[0;34m\u001b[0m\u001b[0m\n",
      "\u001b[0;32m<ipython-input-3-8f4a9c00dfa2>\u001b[0m in \u001b[0;36mgetValenceEnergyComponent\u001b[0;34m(system, positions, atoms)\u001b[0m\n\u001b[1;32m     84\u001b[0m     \u001b[0;31m# Report on constraints\u001b[0m\u001b[0;34m\u001b[0m\u001b[0;34m\u001b[0m\u001b[0m\n\u001b[1;32m     85\u001b[0m     \u001b[0;32mif\u001b[0m \u001b[0mforcename\u001b[0m \u001b[0;34m==\u001b[0m \u001b[0;34m'HarmonicBondForce'\u001b[0m\u001b[0;34m:\u001b[0m\u001b[0;34m\u001b[0m\u001b[0m\n\u001b[0;32m---> 86\u001b[0;31m         \u001b[0;32mfor\u001b[0m \u001b[0mconstraint_index\u001b[0m \u001b[0;32min\u001b[0m \u001b[0mrange\u001b[0m\u001b[0;34m(\u001b[0m\u001b[0mforce\u001b[0m\u001b[0;34m.\u001b[0m\u001b[0mgetNumConstraints\u001b[0m\u001b[0;34m(\u001b[0m\u001b[0;34m)\u001b[0m\u001b[0;34m)\u001b[0m\u001b[0;34m:\u001b[0m\u001b[0;34m\u001b[0m\u001b[0m\n\u001b[0m\u001b[1;32m     87\u001b[0m             \u001b[0;34m[\u001b[0m\u001b[0mi\u001b[0m\u001b[0;34m,\u001b[0m \u001b[0mj\u001b[0m\u001b[0;34m,\u001b[0m \u001b[0mr0\u001b[0m\u001b[0;34m]\u001b[0m \u001b[0;34m=\u001b[0m \u001b[0msystem\u001b[0m\u001b[0;34m.\u001b[0m\u001b[0mgetConstraintParameters\u001b[0m\u001b[0;34m(\u001b[0m\u001b[0mconstraint_index\u001b[0m\u001b[0;34m)\u001b[0m\u001b[0;34m\u001b[0m\u001b[0m\n\u001b[1;32m     88\u001b[0m             \u001b[0;32mif\u001b[0m \u001b[0mset\u001b[0m\u001b[0;34m(\u001b[0m\u001b[0;34m[\u001b[0m\u001b[0mi\u001b[0m\u001b[0;34m,\u001b[0m\u001b[0mj\u001b[0m\u001b[0;34m]\u001b[0m\u001b[0;34m)\u001b[0m \u001b[0;34m==\u001b[0m \u001b[0matoms\u001b[0m\u001b[0;34m:\u001b[0m\u001b[0;34m\u001b[0m\u001b[0m\n",
      "\u001b[0;31mUnboundLocalError\u001b[0m: local variable 'force' referenced before assignment"
     ]
    }
   ],
   "source": [
    "#Do substructure search and depiction\n",
    "mol = oechem.OEMol()\n",
    "#Loop over molecules in file\n",
    "for mol in ifs.GetOEMols():\n",
    "    # Get OpenMM System and positions.\n",
    "    [system, positions] = createOpenMMSystem(mol)\n",
    "    \n",
    "    \n",
    "    goodMol = True\n",
    "    oechem.OEPrepareSearch(mol, ss)\n",
    "    unique = True\n",
    "    #Loop over matches within this molecule in file and depict\n",
    "    for match in ss.Match(mol, unique):\n",
    "        display( depictMatch(mol, match))\n",
    "        atoms = list()\n",
    "        for ma in match.GetAtoms():\n",
    "            print(ma.target.GetIdx(), end=\" \")          \n",
    "            #print(ma.pattern.GetIdx(), end=\" \")\n",
    "            atoms.append( ma.target.GetIdx() )\n",
    "        print('')\n",
    "        #Get OpenMM angle energy and print IF it's an angle term\n",
    "        potential = getValenceEnergyComponent(system, positions, atoms)\n",
    "        print('%16.10f kcal/mol' % (potential / unit.kilocalories_per_mole))"
   ]
  },
  {
   "cell_type": "code",
   "execution_count": null,
   "metadata": {
    "collapsed": false
   },
   "outputs": [],
   "source": [
    "ifs.close()"
   ]
  },
  {
   "cell_type": "code",
   "execution_count": null,
   "metadata": {
    "collapsed": false
   },
   "outputs": [],
   "source": []
  }
 ],
 "metadata": {
  "kernelspec": {
   "display_name": "Python 2",
   "language": "python",
   "name": "python2"
  },
  "language_info": {
   "codemirror_mode": {
    "name": "ipython",
    "version": 2
   },
   "file_extension": ".py",
   "mimetype": "text/x-python",
   "name": "python",
   "nbconvert_exporter": "python",
   "pygments_lexer": "ipython2",
   "version": "2.7.11"
  }
 },
 "nbformat": 4,
 "nbformat_minor": 0
}
